{
 "cells": [
  {
   "cell_type": "code",
   "execution_count": 1,
   "metadata": {},
   "outputs": [],
   "source": [
    "import pandas as pd\n",
    "from sklearn.model_selection import train_test_split\n",
    "from sklearn import svm\n",
    "from sklearn.metrics import classification_report\n",
    "from sklearn.neural_network import MLPClassifier\n",
    "from sklearn.metrics import confusion_matrix\n",
    "from sklearn.ensemble import RandomForestClassifier\n",
    "import seaborn as sns\n",
    "import matplotlib.pyplot as plt\n",
    "import numpy as np\n",
    "import warnings\n",
    "warnings.filterwarnings('ignore')\n",
    "# warnings.filterwarnings('default')\n",
    "\n",
    "sns.set_style(\"darkgrid\")\n",
    "\n",
    "df = pd.read_csv('https://raw.githubusercontent.com/jugalm/News_Stocks/master/data/weekly_gti_stock_price.csv')\n",
    "\n",
    "df = df.dropna()\n",
    "del df['Unnamed: 0']"
   ]
  },
  {
   "cell_type": "markdown",
   "metadata": {},
   "source": [
    "# Classifying \n",
    "\n",
    "- Greater than +1 Std Deviation as 1\n",
    "- Within +- 1 Standard deviation as 0\n",
    "- Less than -1 Std Deviationa as -1 "
   ]
  },
  {
   "cell_type": "code",
   "execution_count": 2,
   "metadata": {},
   "outputs": [],
   "source": [
    "upper = df.excess_percent_change.mean() + df.excess_percent_change.std()\n",
    "lower = df.excess_percent_change.mean() - df.excess_percent_change.std()\n",
    "\n",
    "df.loc[(df.excess_percent_change > lower) &(df.excess_percent_change > lower),'3_category'] =  0\n",
    "df.loc[(df.excess_percent_change >= upper),'3_category'] =  1\n",
    "df.loc[(df.excess_percent_change <= lower),'3_category'] =  -1\n"
   ]
  },
  {
   "cell_type": "markdown",
   "metadata": {},
   "source": [
    "# Reposne variable is the one defined above\n",
    "\n",
    "# Feautures are the 4 lag standarized GT Index and 4 lag standarized weekly volume"
   ]
  },
  {
   "cell_type": "code",
   "execution_count": 3,
   "metadata": {},
   "outputs": [],
   "source": [
    "X_1 =df[['adjusted_gt_index_lag1',  'adjusted_gt_index_lag2', 'adjusted_gt_index_lag3', 'adjusted_gt_index_lag4', \n",
    "       'standarized_weekly_volume', 'standarized_weekly_volume_lag1',\n",
    "       'standarized_weekly_volume_lag2', 'standarized_weekly_volume_lag3']]\n",
    "\n",
    "y_1 =df['3_category']\n",
    "\n",
    "X_train, X_test, y_train, y_test = train_test_split(X_1, y_1, test_size=0.20)"
   ]
  },
  {
   "cell_type": "markdown",
   "metadata": {},
   "source": [
    "# SVM "
   ]
  },
  {
   "cell_type": "code",
   "execution_count": 4,
   "metadata": {},
   "outputs": [
    {
     "name": "stdout",
     "output_type": "stream",
     "text": [
      "             precision    recall  f1-score   support\n",
      "\n",
      "       -1.0       0.38      0.08      0.13        73\n",
      "        0.0       0.78      0.99      0.87       462\n",
      "        1.0       1.00      0.02      0.03        65\n",
      "\n",
      "avg / total       0.76      0.77      0.69       600\n",
      "\n",
      "[[  6  67   0]\n",
      " [  5 457   0]\n",
      " [  5  59   1]]\n"
     ]
    }
   ],
   "source": [
    "clf = svm.SVC()\n",
    "clf.fit(X_train, y_train)\n",
    "\n",
    "y_fit = clf.predict(X_test)\n",
    "print(classification_report(y_test, y_fit))\n",
    "print(confusion_matrix(y_test, y_fit))"
   ]
  },
  {
   "cell_type": "markdown",
   "metadata": {},
   "source": [
    "# Neural Network"
   ]
  },
  {
   "cell_type": "code",
   "execution_count": 5,
   "metadata": {},
   "outputs": [
    {
     "name": "stdout",
     "output_type": "stream",
     "text": [
      "             precision    recall  f1-score   support\n",
      "\n",
      "       -1.0       0.23      0.14      0.17        73\n",
      "        0.0       0.79      0.95      0.86       462\n",
      "        1.0       0.00      0.00      0.00        65\n",
      "\n",
      "avg / total       0.64      0.75      0.69       600\n",
      "\n",
      "[[ 10  63   0]\n",
      " [ 22 439   1]\n",
      " [ 12  53   0]]\n"
     ]
    }
   ],
   "source": [
    "clf = MLPClassifier(solver='lbfgs', alpha=1e-5, hidden_layer_sizes=(15, 2))\n",
    "clf.fit(X_train, y_train) \n",
    "\n",
    "y_fit = clf.predict(X_test)\n",
    "print(classification_report(y_test, y_fit))\n",
    "print(confusion_matrix(y_test, y_fit))"
   ]
  },
  {
   "cell_type": "markdown",
   "metadata": {},
   "source": [
    "# Random Forest\n"
   ]
  },
  {
   "cell_type": "code",
   "execution_count": 6,
   "metadata": {},
   "outputs": [
    {
     "name": "stdout",
     "output_type": "stream",
     "text": [
      "             precision    recall  f1-score   support\n",
      "\n",
      "       -1.0       0.00      0.00      0.00        73\n",
      "        0.0       0.77      1.00      0.87       462\n",
      "        1.0       0.00      0.00      0.00        65\n",
      "\n",
      "avg / total       0.59      0.77      0.67       600\n",
      "\n",
      "[[  0  73   0]\n",
      " [  0 462   0]\n",
      " [  0  65   0]]\n"
     ]
    }
   ],
   "source": [
    "clf = RandomForestClassifier(n_estimators=100, max_depth=2)\n",
    "clf.fit(X_train, y_train) \n",
    "\n",
    "y_fit = clf.predict(X_test)\n",
    "print(classification_report(y_test, y_fit))\n",
    "print(confusion_matrix(y_test, y_fit))"
   ]
  },
  {
   "cell_type": "markdown",
   "metadata": {},
   "source": [
    "# Functions needed to run n simulation with different training and test sample"
   ]
  },
  {
   "cell_type": "code",
   "execution_count": 7,
   "metadata": {},
   "outputs": [],
   "source": [
    "from collections import defaultdict\n",
    "\n",
    "def report2dict(cr):\n",
    "    # Parse rows\n",
    "    tmp = list()\n",
    "    for row in cr.split(\"\\n\"):\n",
    "        parsed_row = [x for x in row.split(\"  \") if len(x) > 0]\n",
    "        if len(parsed_row) > 0:\n",
    "            tmp.append(parsed_row)\n",
    "    \n",
    "    # Store in dictionary\n",
    "    measures = tmp[0]\n",
    "\n",
    "    D_class_data = defaultdict(dict)\n",
    "    for row in tmp[1:]:\n",
    "        class_label = row[0]\n",
    "        for j, m in enumerate(measures):\n",
    "            D_class_data[class_label][m.strip()] = float(row[j + 1].strip())\n",
    "    return D_class_data"
   ]
  },
  {
   "cell_type": "code",
   "execution_count": 8,
   "metadata": {},
   "outputs": [],
   "source": [
    "def run_simulation(n, x, y, test_portion, method):\n",
    "    result = []\n",
    "    \n",
    "    for i in range(n):\n",
    "        X_train, X_test, y_train, y_test = train_test_split(x, y, test_size=test_portion)\n",
    "        \n",
    "        if method == 'SVM':\n",
    "            clf = svm.SVC()\n",
    "        elif method == 'Neural Network':\n",
    "            clf = MLPClassifier(solver='lbfgs', alpha=1e-5, hidden_layer_sizes=(15, 2)) \n",
    "        elif method == 'Random Forest':\n",
    "            clf = RandomForestClassifier(n_estimators=100, max_depth=2)\n",
    "\n",
    "        clf.fit(X_train, y_train)\n",
    "        \n",
    "        y_fit = clf.predict(X_test)\n",
    "        res = pd.DataFrame(report2dict(classification_report(y_test, y_fit)))\n",
    "        result.append(res.loc['precision', 'avg / total'])\n",
    "        \n",
    "    return result"
   ]
  },
  {
   "cell_type": "markdown",
   "metadata": {},
   "source": [
    "# SVM 100 simulation Result"
   ]
  },
  {
   "cell_type": "code",
   "execution_count": 9,
   "metadata": {
    "scrolled": false
   },
   "outputs": [
    {
     "name": "stdout",
     "output_type": "stream",
     "text": [
      "Average accuracy of prediction: 0.7069000000000001\n"
     ]
    },
    {
     "data": {
      "text/plain": [
       "<matplotlib.axes._subplots.AxesSubplot at 0x1a10b072b0>"
      ]
     },
     "execution_count": 9,
     "metadata": {},
     "output_type": "execute_result"
    },
    {
     "data": {
      "image/png": "[encoded data removed]",
      "text/plain": [
       "<Figure size 432x288 with 1 Axes>"
      ]
     },
     "metadata": {},
     "output_type": "display_data"
    }
   ],
   "source": [
    "res = run_simulation(100, X_1, y_1, 0.20, 'SVM')\n",
    "\n",
    "print(\"Average accuracy of prediction: \" + str(np.array(res).mean()))\n",
    "\n",
    "sns.distplot(res)"
   ]
  },
  {
   "cell_type": "markdown",
   "metadata": {},
   "source": [
    "# Neural Network 100 simulation Result"
   ]
  },
  {
   "cell_type": "code",
   "execution_count": 10,
   "metadata": {},
   "outputs": [
    {
     "name": "stdout",
     "output_type": "stream",
     "text": [
      "Average accuracy of prediction: 0.6798000000000001\n"
     ]
    },
    {
     "data": {
      "text/plain": [
       "100"
      ]
     },
     "execution_count": 10,
     "metadata": {},
     "output_type": "execute_result"
    },
    {
     "data": {
      "image/png": "[encoded data removed]",
      "text/plain": [
       "<Figure size 432x288 with 1 Axes>"
      ]
     },
     "metadata": {},
     "output_type": "display_data"
    }
   ],
   "source": [
    "res = run_simulation(100, X_1, y_1, 0.20, 'Neural Network')\n",
    "\n",
    "print(\"Average accuracy of prediction: \" + str(np.array(res).mean()))\n",
    "\n",
    "sns.distplot(res)\n",
    "len(res)"
   ]
  },
  {
   "cell_type": "markdown",
   "metadata": {},
   "source": [
    "# Random Forest 100 simulation Result"
   ]
  },
  {
   "cell_type": "code",
   "execution_count": 11,
   "metadata": {
    "scrolled": false
   },
   "outputs": [
    {
     "name": "stdout",
     "output_type": "stream",
     "text": [
      "Average accuracy of prediction: 0.611\n"
     ]
    },
    {
     "data": {
      "text/plain": [
       "100"
      ]
     },
     "execution_count": 11,
     "metadata": {},
     "output_type": "execute_result"
    },
    {
     "data": {
      "image/png": "[encoded data removed]",
      "text/plain": [
       "<Figure size 432x288 with 1 Axes>"
      ]
     },
     "metadata": {},
     "output_type": "display_data"
    }
   ],
   "source": [
    "res = run_simulation(100, X_1, y_1, 0.20, 'Random Forest')\n",
    "\n",
    "print(\"Average accuracy of prediction: \" + str(np.array(res).mean()))\n",
    "\n",
    "sns.distplot(res)\n",
    "len(res)"
   ]
  }
 ],
 "metadata": {
  "kernelspec": {
   "display_name": "Python 3",
   "language": "python",
   "name": "python3"
  },
  "language_info": {
   "codemirror_mode": {
    "name": "ipython",
    "version": 3
   },
   "file_extension": ".py",
   "mimetype": "text/x-python",
   "name": "python",
   "nbconvert_exporter": "python",
   "pygments_lexer": "ipython3",
   "version": "3.6.5"
  }
 },
 "nbformat": 4,
 "nbformat_minor": 2
}
